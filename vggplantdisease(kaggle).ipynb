{
 "cells": [
  {
   "cell_type": "code",
   "execution_count": 1,
   "metadata": {
    "_cell_guid": "b1076dfc-b9ad-4769-8c92-a6c4dae69d19",
    "_uuid": "8f2839f25d086af736a60e9eeb907d3b93b6e0e5",
    "execution": {
     "iopub.execute_input": "2022-03-15T08:42:17.163719Z",
     "iopub.status.busy": "2022-03-15T08:42:17.162895Z",
     "iopub.status.idle": "2022-03-15T08:42:17.170960Z",
     "shell.execute_reply": "2022-03-15T08:42:17.169879Z",
     "shell.execute_reply.started": "2022-03-15T08:42:17.163669Z"
    }
   },
   "outputs": [],
   "source": [
    "# This Python 3 environment comes with many helpful analytics libraries installed\n",
    "# It is defined by the kaggle/python Docker image: https://github.com/kaggle/docker-python\n",
    "# For example, here's several helpful packages to load\n",
    "\n",
    "import numpy as np # linear algebra\n",
    "import pandas as pd # data processing, CSV file I/O (e.g. pd.read_csv)\n",
    "\n",
    "# Input data files are available in the read-only \"../input/\" directory\n",
    "# For example, running this (by clicking run or pressing Shift+Enter) will list all files under the input directory\n",
    "\n",
    "import os\n",
    "\n",
    "# You can write up to 5GB to the current directory (/kaggle/working/) that gets preserved as output when you create a version using \"Save & Run All\" \n",
    "# You can also write temporary files to /kaggle/temp/, but they won't be saved outside of the current session"
   ]
  },
  {
   "cell_type": "markdown",
   "metadata": {},
   "source": [
    "Import required modules"
   ]
  },
  {
   "cell_type": "code",
   "execution_count": 2,
   "metadata": {
    "_cell_guid": "79c7e3d0-c299-4dcb-8224-4455121ee9b0",
    "_uuid": "d629ff2d2480ee46fbb7e2d37f6b5fab8052498a",
    "execution": {
     "iopub.execute_input": "2022-03-15T08:42:17.180307Z",
     "iopub.status.busy": "2022-03-15T08:42:17.179536Z",
     "iopub.status.idle": "2022-03-15T08:42:22.152151Z",
     "shell.execute_reply": "2022-03-15T08:42:22.151182Z",
     "shell.execute_reply.started": "2022-03-15T08:42:17.180259Z"
    }
   },
   "outputs": [],
   "source": [
    "import tensorflow as tf\n",
    "import matplotlib.pyplot as plt\n",
    "from tensorflow.keras.preprocessing.image import ImageDataGenerator\n",
    "from tensorflow.keras import Input,Model\n",
    "from tensorflow.keras.layers import Dense,GlobalAveragePooling2D,Dropout\n",
    "from tensorflow.keras.callbacks import ModelCheckpoint"
   ]
  },
  {
   "cell_type": "markdown",
   "metadata": {},
   "source": [
    "# Input Data and Data Argumentation "
   ]
  },
  {
   "cell_type": "code",
   "execution_count": 3,
   "metadata": {
    "execution": {
     "iopub.execute_input": "2022-03-15T08:42:22.154489Z",
     "iopub.status.busy": "2022-03-15T08:42:22.154046Z",
     "iopub.status.idle": "2022-03-15T08:44:04.527504Z",
     "shell.execute_reply": "2022-03-15T08:44:04.526218Z",
     "shell.execute_reply.started": "2022-03-15T08:42:22.154443Z"
    }
   },
   "outputs": [],
   "source": [
    "train_datagen=ImageDataGenerator(rescale=1./255,\n",
    "                                shear_range=0.2,\n",
    "                                zoom_range=0.2,\n",
    "                                width_shift_range=0.2,\n",
    "                                height_shift_range=0.2,\n",
    "                                fill_mode='nearest')\n",
    "\n",
    "valid_gen=ImageDataGenerator(rescale=1./255)\n",
    "\n",
    "batch_size=32\n",
    "base_dir=\"../input/new-plant-diseases-dataset/new plant diseases dataset(augmented)/New Plant Diseases Dataset(Augmented)\"\n",
    "\n",
    "training_set=train_datagen.flow_from_directory(base_dir+'/train',\n",
    "                                              target_size=(224,224),\n",
    "                                              batch_size=batch_size,\n",
    "                                              class_mode='categorical')\n",
    "\n",
    "valid_set=valid_gen.flow_from_directory(base_dir+'/valid',\n",
    "                                       target_size=(224,224),\n",
    "                                       batch_size=batch_size,\n",
    "                                       class_mode='categorical')"
   ]
  },
  {
   "cell_type": "code",
   "execution_count": 4,
   "metadata": {
    "execution": {
     "iopub.execute_input": "2022-03-15T08:44:04.531024Z",
     "iopub.status.busy": "2022-03-15T08:44:04.529428Z",
     "iopub.status.idle": "2022-03-15T08:44:04.536898Z",
     "shell.execute_reply": "2022-03-15T08:44:04.535758Z",
     "shell.execute_reply.started": "2022-03-15T08:44:04.530971Z"
    }
   },
   "outputs": [],
   "source": [
    "train_num=training_set.samples\n",
    "valid_num=valid_set.samples"
   ]
  },
  {
   "cell_type": "markdown",
   "metadata": {},
   "source": [
    "# Transfer Learning with VGG"
   ]
  },
  {
   "cell_type": "markdown",
   "metadata": {},
   "source": [
    "Download VGG-16 model without Dense layers"
   ]
  },
  {
   "cell_type": "code",
   "execution_count": 5,
   "metadata": {
    "execution": {
     "iopub.execute_input": "2022-03-15T08:44:04.539921Z",
     "iopub.status.busy": "2022-03-15T08:44:04.539168Z",
     "iopub.status.idle": "2022-03-15T08:44:10.113961Z",
     "shell.execute_reply": "2022-03-15T08:44:10.112988Z",
     "shell.execute_reply.started": "2022-03-15T08:44:04.539864Z"
    }
   },
   "outputs": [],
   "source": [
    "base_model=tf.keras.applications.VGG16(include_top=False,\n",
    "                                      weights='imagenet',\n",
    "                                      input_shape=(224,224,3))\n",
    "base_model.summary()"
   ]
  },
  {
   "cell_type": "markdown",
   "metadata": {},
   "source": [
    "Freeze the convolutional base created and use its as a feature extractor (by base_model.trainable=False) prevent the weights in a given layer from being updated during training"
   ]
  },
  {
   "cell_type": "code",
   "execution_count": 6,
   "metadata": {
    "execution": {
     "iopub.execute_input": "2022-03-15T08:44:10.124352Z",
     "iopub.status.busy": "2022-03-15T08:44:10.124016Z",
     "iopub.status.idle": "2022-03-15T08:44:10.134011Z",
     "shell.execute_reply": "2022-03-15T08:44:10.133056Z",
     "shell.execute_reply.started": "2022-03-15T08:44:10.124320Z"
    }
   },
   "outputs": [],
   "source": [
    "base_model.trainable=False"
   ]
  },
  {
   "cell_type": "code",
   "execution_count": 7,
   "metadata": {
    "execution": {
     "iopub.execute_input": "2022-03-15T08:44:10.136674Z",
     "iopub.status.busy": "2022-03-15T08:44:10.136194Z",
     "iopub.status.idle": "2022-03-15T08:44:10.154163Z",
     "shell.execute_reply": "2022-03-15T08:44:10.152567Z",
     "shell.execute_reply.started": "2022-03-15T08:44:10.136628Z"
    }
   },
   "outputs": [],
   "source": [
    "base_model.summary()"
   ]
  },
  {
   "cell_type": "markdown",
   "metadata": {},
   "source": [
    "Build a model by channing the base_model layer and Dense layers"
   ]
  },
  {
   "cell_type": "code",
   "execution_count": 8,
   "metadata": {
    "execution": {
     "iopub.execute_input": "2022-03-15T08:44:10.156299Z",
     "iopub.status.busy": "2022-03-15T08:44:10.155838Z",
     "iopub.status.idle": "2022-03-15T08:44:10.394034Z",
     "shell.execute_reply": "2022-03-15T08:44:10.393096Z",
     "shell.execute_reply.started": "2022-03-15T08:44:10.156256Z"
    }
   },
   "outputs": [],
   "source": [
    "inputs=Input(shape=(224,224,3))\n",
    "x=base_model(inputs,training=False)\n",
    "x=GlobalAveragePooling2D()(x)\n",
    "x=Dense(512,activation='relu')(x)\n",
    "x=Dropout(0.2)(x)\n",
    "x=Dense(512,activation='relu')(x)\n",
    "x=Dropout(0.2)(x)\n",
    "outputs=Dense(38,activation='softmax')(x)\n",
    "\n",
    "\n",
    "vgg_model=Model(inputs,outputs)\n",
    "\n",
    "vgg_model.summary()"
   ]
  },
  {
   "cell_type": "markdown",
   "metadata": {},
   "source": [
    "Compile the model before training it. Since there are two classes, use a categorical cross-entropy loss & Adam optimizer"
   ]
  },
  {
   "cell_type": "code",
   "execution_count": 9,
   "metadata": {
    "execution": {
     "iopub.execute_input": "2022-03-15T08:44:10.400139Z",
     "iopub.status.busy": "2022-03-15T08:44:10.399715Z",
     "iopub.status.idle": "2022-03-15T08:44:10.419744Z",
     "shell.execute_reply": "2022-03-15T08:44:10.418705Z",
     "shell.execute_reply.started": "2022-03-15T08:44:10.400075Z"
    }
   },
   "outputs": [],
   "source": [
    "\n",
    "vgg_model.compile(optimizer=tf.keras.optimizers.Adam(),\n",
    "             loss='categorical_crossentropy',\n",
    "             metrics=['accuracy'])"
   ]
  },
  {
   "cell_type": "code",
   "execution_count": 10,
   "metadata": {
    "execution": {
     "iopub.execute_input": "2022-03-15T08:44:10.422126Z",
     "iopub.status.busy": "2022-03-15T08:44:10.421413Z",
     "iopub.status.idle": "2022-03-15T08:44:10.432703Z",
     "shell.execute_reply": "2022-03-15T08:44:10.430893Z",
     "shell.execute_reply.started": "2022-03-15T08:44:10.422008Z"
    }
   },
   "outputs": [],
   "source": [
    "len(vgg_model.trainable_variables)"
   ]
  },
  {
   "cell_type": "code",
   "execution_count": 11,
   "metadata": {
    "execution": {
     "iopub.execute_input": "2022-03-15T08:44:10.436196Z",
     "iopub.status.busy": "2022-03-15T08:44:10.435062Z",
     "iopub.status.idle": "2022-03-15T08:47:07.404522Z",
     "shell.execute_reply": "2022-03-15T08:47:07.403359Z",
     "shell.execute_reply.started": "2022-03-15T08:44:10.436149Z"
    }
   },
   "outputs": [],
   "source": [
    "vgg_model.evaluate(valid_set)"
   ]
  },
  {
   "cell_type": "markdown",
   "metadata": {},
   "source": [
    "# Train the model"
   ]
  },
  {
   "cell_type": "code",
   "execution_count": 12,
   "metadata": {
    "execution": {
     "iopub.execute_input": "2022-03-15T08:47:07.407164Z",
     "iopub.status.busy": "2022-03-15T08:47:07.406670Z",
     "iopub.status.idle": "2022-03-15T09:12:24.046613Z",
     "shell.execute_reply": "2022-03-15T09:12:24.045666Z",
     "shell.execute_reply.started": "2022-03-15T08:47:07.407112Z"
    }
   },
   "outputs": [],
   "source": [
    "weightpath='best_weights_9.hdf5'\n",
    "checkpoint = ModelCheckpoint(weightpath, monitor='val_acc', verbose=1, \n",
    "                             save_best_only=True, save_weights_only=True, mode='max')\n",
    "\n",
    "history=vgg_model.fit_generator(training_set,\n",
    "                        steps_per_epoch=150,c\n",
    "                        epochs=15,\n",
    "                        validation_data=valid_set,\n",
    "                        validation_steps=100,\n",
    "                        callbacks=[checkpoint])"
   ]
  },
  {
   "cell_type": "code",
   "execution_count": 13,
   "metadata": {
    "execution": {
     "iopub.execute_input": "2022-03-15T09:12:24.050746Z",
     "iopub.status.busy": "2022-03-15T09:12:24.050394Z",
     "iopub.status.idle": "2022-03-15T09:34:11.893216Z",
     "shell.execute_reply": "2022-03-15T09:34:11.892225Z",
     "shell.execute_reply.started": "2022-03-15T09:12:24.050698Z"
    }
   },
   "outputs": [],
   "source": [
    "history=vgg_model.fit_generator(training_set,\n",
    "                        steps_per_epoch=150,\n",
    "                        epochs=15,\n",
    "                        validation_data=valid_set,\n",
    "                        validation_steps=100,\n",
    "                        callbacks=[checkpoint])"
   ]
  },
  {
   "cell_type": "code",
   "execution_count": 14,
   "metadata": {
    "execution": {
     "iopub.execute_input": "2022-03-15T09:34:11.896906Z",
     "iopub.status.busy": "2022-03-15T09:34:11.896037Z",
     "iopub.status.idle": "2022-03-15T09:54:56.447969Z",
     "shell.execute_reply": "2022-03-15T09:54:56.447063Z",
     "shell.execute_reply.started": "2022-03-15T09:34:11.896856Z"
    }
   },
   "outputs": [],
   "source": [
    "history=vgg_model.fit_generator(training_set,\n",
    "                        steps_per_epoch=150,\n",
    "                        epochs=15,\n",
    "                        validation_data=valid_set,\n",
    "                        validation_steps=100,\n",
    "                        callbacks=[checkpoint])"
   ]
  },
  {
   "cell_type": "markdown",
   "metadata": {},
   "source": [
    "# Fine Tuning"
   ]
  },
  {
   "cell_type": "markdown",
   "metadata": {},
   "source": [
    "In the feature extraction experiment, you were only training a few layers on top of an VGG-16 base model. The weights of the pre-trained network were not updated during training.\n",
    "\n",
    "One way to increase performance even further is to train (or \"fine-tune\") the weights of the top layers of the pre-trained model alongside the training of the classifier you added. The training process will force the weights to be tuned from generic feature maps to features associated specifically with the dataset.\n",
    "\n",
    " The goal of fine-tuning is to adapt these specialized features to work with the new dataset, rather than overwrite the generic learning."
   ]
  },
  {
   "cell_type": "code",
   "execution_count": 15,
   "metadata": {
    "execution": {
     "iopub.execute_input": "2022-03-15T09:54:56.452147Z",
     "iopub.status.busy": "2022-03-15T09:54:56.451816Z",
     "iopub.status.idle": "2022-03-15T09:54:56.469178Z",
     "shell.execute_reply": "2022-03-15T09:54:56.464701Z",
     "shell.execute_reply.started": "2022-03-15T09:54:56.452099Z"
    }
   },
   "outputs": [],
   "source": [
    "base_model.trainable=True #Un-Freezing the base model\n",
    "vgg_model.summary()"
   ]
  },
  {
   "cell_type": "code",
   "execution_count": 16,
   "metadata": {
    "execution": {
     "iopub.execute_input": "2022-03-15T09:54:56.473982Z",
     "iopub.status.busy": "2022-03-15T09:54:56.473643Z",
     "iopub.status.idle": "2022-03-15T10:09:58.082379Z",
     "shell.execute_reply": "2022-03-15T10:09:58.081447Z",
     "shell.execute_reply.started": "2022-03-15T09:54:56.473952Z"
    }
   },
   "outputs": [],
   "source": [
    "vgg_model.compile(optimizer=tf.keras.optimizers.Adam(1e-5),\n",
    "                 loss='categorical_crossentropy',\n",
    "                 metrics=['accuracy'])\n",
    "\n",
    "fine_tune_history=vgg_model.fit_generator(training_set,\n",
    "                                        steps_per_epoch=150,\n",
    "                                        validation_data=valid_set,\n",
    "                                        epochs=10,\n",
    "                                        validation_steps=100)"
   ]
  },
  {
   "cell_type": "code",
   "execution_count": 1,
   "metadata": {},
   "outputs": [],
   "source": [
    "import numpy as np"
   ]
  },
  {
   "cell_type": "code",
   "execution_count": 2,
   "metadata": {},
   "outputs": [],
   "source": [
    "import tensorflow as tf\n",
    "import matplotlib.pyplot as plt\n",
    "from tensorflow.keras.preprocessing.image import ImageDataGenerator\n",
    "from tensorflow.keras import Input,Model\n",
    "from tensorflow.keras.layers import Dense,GlobalAveragePooling2D,Dropout\n",
    "from tensorflow.keras.callbacks import ModelCheckpoint"
   ]
  },
  {
   "cell_type": "code",
   "execution_count": null,
   "metadata": {},
   "outputs": [],
   "source": [
    "new_model = tf.keras.models.load_model('../models/')"
   ]
  }
 ],
 "metadata": {
  "kernelspec": {
   "display_name": "Python 3 (ipykernel)",
   "language": "python",
   "name": "python3"
  },
  "language_info": {
   "codemirror_mode": {
    "name": "ipython",
    "version": 3
   },
   "file_extension": ".py",
   "mimetype": "text/x-python",
   "name": "python",
   "nbconvert_exporter": "python",
   "pygments_lexer": "ipython3",
   "version": "3.7.7"
  }
 },
 "nbformat": 4,
 "nbformat_minor": 4
}
